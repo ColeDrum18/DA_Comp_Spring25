{
 "cells": [
  {
   "cell_type": "code",
   "execution_count": 1,
   "metadata": {},
   "outputs": [],
   "source": [
    "import pandas as pd\n",
    "import numpy as np"
   ]
  },
  {
   "cell_type": "code",
   "execution_count": 2,
   "metadata": {},
   "outputs": [
    {
     "name": "stdout",
     "output_type": "stream",
     "text": [
      "<class 'pandas.core.frame.DataFrame'>\n",
      "RangeIndex: 253686 entries, 0 to 253685\n",
      "Data columns (total 31 columns):\n",
      " #   Column              Non-Null Count   Dtype         \n",
      "---  ------              --------------   -----         \n",
      " 0   Claim ID            253686 non-null  object        \n",
      " 1   Service Date        253686 non-null  datetime64[ns]\n",
      " 2   Recieved Date       253686 non-null  datetime64[ns]\n",
      " 3   Paid Date           253686 non-null  datetime64[ns]\n",
      " 4   Patient ID          253686 non-null  object        \n",
      " 5   Member Age          253686 non-null  object        \n",
      " 6   Gender              253686 non-null  object        \n",
      " 7   Marital Status      241000 non-null  object        \n",
      " 8   Ethnicity           226800 non-null  object        \n",
      " 9   LOB                 253686 non-null  object        \n",
      " 10  Network Status      253686 non-null  object        \n",
      " 11  Claim Category      253685 non-null  object        \n",
      " 12  Claim Subcategory   253685 non-null  object        \n",
      " 13  Claim Line          253686 non-null  object        \n",
      " 14  Place of Service    253686 non-null  object        \n",
      " 15  Provider Type       253671 non-null  object        \n",
      " 16  Provider Specialty  253685 non-null  object        \n",
      " 17  ICD10 Code 1        252750 non-null  float64       \n",
      " 18  ICD10 Code 2        176154 non-null  float64       \n",
      " 19  ICD10 Code 3        127472 non-null  float64       \n",
      " 20  ICD10 Code 4        95637 non-null   float64       \n",
      " 21  ICD10 Code 5        69465 non-null   float64       \n",
      " 22  ICD10 Code 6        56029 non-null   float64       \n",
      " 23  ICD10 Code 7        45262 non-null   float64       \n",
      " 24  ICD10 Code 8        37466 non-null   float64       \n",
      " 25  ICD10 Code 9        31514 non-null   float64       \n",
      " 26  ICD10 Code 10       26932 non-null   float64       \n",
      " 27  Service Type        253686 non-null  object        \n",
      " 28  Service Code        253686 non-null  object        \n",
      " 29  Modifiers           78847 non-null   object        \n",
      " 30  High Cost Claim     203250 non-null  float64       \n",
      "dtypes: datetime64[ns](3), float64(11), object(17)\n",
      "memory usage: 60.0+ MB\n"
     ]
    }
   ],
   "source": [
    "data = pd.read_excel('Dataset/DSU-Dataset.xlsx')\n",
    "data.info()"
   ]
  }
 ],
 "metadata": {
  "kernelspec": {
   "display_name": "Python 3",
   "language": "python",
   "name": "python3"
  },
  "language_info": {
   "codemirror_mode": {
    "name": "ipython",
    "version": 3
   },
   "file_extension": ".py",
   "mimetype": "text/x-python",
   "name": "python",
   "nbconvert_exporter": "python",
   "pygments_lexer": "ipython3",
   "version": "3.11.5"
  }
 },
 "nbformat": 4,
 "nbformat_minor": 2
}
